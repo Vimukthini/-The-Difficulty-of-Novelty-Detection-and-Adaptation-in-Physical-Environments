{
 "cells": [
  {
   "cell_type": "code",
   "execution_count": 16,
   "metadata": {},
   "outputs": [],
   "source": [
    "import pandas as pd"
   ]
  },
  {
   "cell_type": "code",
   "execution_count": 17,
   "metadata": {},
   "outputs": [],
   "source": [
    "#read the basemap file\n",
    "basemap = pd.read_json(\"BaseMap.json\")"
   ]
  },
  {
   "cell_type": "code",
   "execution_count": 18,
   "metadata": {},
   "outputs": [],
   "source": [
    "#rename to col and percent in basemap\n",
    "for i in range(len(basemap['sprites'])):\n",
    "    #print(basemap['sprites'][i]['colormap'])\n",
    "    for j in range(len(basemap['sprites'][i]['colormap'])):\n",
    "        #print(basemap['sprites'][i]['colormap'][j])\n",
    "        basemap['sprites'][i]['colormap'][j]['color'] = basemap['sprites'][i]['colormap'][j].pop('x')\n",
    "        basemap['sprites'][i]['colormap'][j]['percent'] = basemap['sprites'][i]['colormap'][j].pop('y')        \n",
    "\n",
    "#round the percent in basemap\n",
    "for i in range(len(basemap['sprites'])):\n",
    "    #print(basemap['sprites'][i]['colormap'])\n",
    "    for j in range(len(basemap['sprites'][i]['colormap'])):\n",
    "        basemap['sprites'][i]['colormap'][j]['color'] = float(round(basemap['sprites'][i]['colormap'][j]['color'],4))\n",
    "        basemap['sprites'][i]['colormap'][j]['percent'] = float(round(basemap['sprites'][i]['colormap'][j]['percent'],4))\n",
    "        #print(basemap['sprites'][i]['colormap'][j]['color'],basemap['sprites'][i]['colormap'][j]['percent'])\n",
    "\n",
    "#convert basemap to a dataframe\n",
    "label = []\n",
    "colours = []\n",
    "for i in range(len(basemap['sprites'])):\n",
    "    label.append(basemap['sprites'][i]['type'])\n",
    "    colours.append(basemap['sprites'][i]['colormap'])\n",
    "\n",
    "basemap_df = {\"obj_label\":label, \"colours\":colours}\n",
    "basemap_df = pd.DataFrame(basemap_df)\n"
   ]
  },
  {
   "cell_type": "code",
   "execution_count": 19,
   "metadata": {},
   "outputs": [],
   "source": [
    "basemap_df.to_csv(\"basemap_df.csv\",index=False)"
   ]
  },
  {
   "cell_type": "code",
   "execution_count": 20,
   "metadata": {},
   "outputs": [],
   "source": [
    "bm = pd.read_csv(\"basemap_df.csv\")"
   ]
  },
  {
   "cell_type": "code",
   "execution_count": 21,
   "metadata": {},
   "outputs": [
    {
     "data": {
      "text/plain": [
       "\"[{'color': 36.0, 'percent': 0.6232}, {'color': 4.0, 'percent': 0.0041}, {'color': 0.0, 'percent': 0.0176}, {'color': 40.0, 'percent': 0.0009}, {'color': 72.0, 'percent': 0.0012}, {'color': 76.0, 'percent': 0.098}, {'color': 108.0, 'percent': 0.0001}, {'color': 109.0, 'percent': 0.0006}, {'color': 113.0, 'percent': 0.001}, {'color': 145.0, 'percent': 0.0821}, {'color': 149.0, 'percent': 0.0034}, {'color': 181.0, 'percent': 0.0035}, {'color': 186.0, 'percent': 0.0038}, {'color': 218.0, 'percent': 0.002}, {'color': 222.0, 'percent': 0.1548}, {'color': 185.0, 'percent': 0.0006}, {'color': 217.0, 'percent': 0.0034}]\""
      ]
     },
     "execution_count": 21,
     "metadata": {},
     "output_type": "execute_result"
    }
   ],
   "source": [
    "bm['colours'][0]"
   ]
  },
  {
   "cell_type": "code",
   "execution_count": null,
   "metadata": {},
   "outputs": [],
   "source": []
  }
 ],
 "metadata": {
  "kernelspec": {
   "display_name": "Python 3",
   "language": "python",
   "name": "python3"
  },
  "language_info": {
   "codemirror_mode": {
    "name": "ipython",
    "version": 3
   },
   "file_extension": ".py",
   "mimetype": "text/x-python",
   "name": "python",
   "nbconvert_exporter": "python",
   "pygments_lexer": "ipython3",
   "version": "3.7.4"
  }
 },
 "nbformat": 4,
 "nbformat_minor": 2
}
