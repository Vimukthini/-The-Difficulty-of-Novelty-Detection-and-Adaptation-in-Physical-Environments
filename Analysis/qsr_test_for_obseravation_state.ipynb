{
 "cells": [
  {
   "cell_type": "code",
   "execution_count": 1,
   "metadata": {},
   "outputs": [],
   "source": [
    "import plotly.graph_objects as go\n",
    "import plotly.express as px\n",
    "from shapely.geometry import Polygon,MultiPolygon,Point\n",
    "import numpy as np\n",
    "import math\n",
    "import miscellaneous_functions"
   ]
  },
  {
   "cell_type": "code",
   "execution_count": null,
   "metadata": {},
   "outputs": [],
   "source": []
  },
  {
   "cell_type": "code",
   "execution_count": 40,
   "metadata": {},
   "outputs": [],
   "source": [
    "def create_polygon(x_min,y_min,x_max,y_max):\n",
    "    x_coords = [x_min,x_min,x_max,x_max,x_min]\n",
    "    y_coords = [y_min,y_max,y_max,y_min,y_min]\n",
    "    polygon_coords = tuple(zip(x_coords,y_coords))\n",
    "    polygon_obj = Polygon(polygon_coords)\n",
    "    return polygon_coords,x_coords,y_coords,polygon_obj"
   ]
  },
  {
   "cell_type": "code",
   "execution_count": 58,
   "metadata": {},
   "outputs": [],
   "source": [
    "p1 = create_polygon(10,100,40,200)\n",
    "p2 = create_polygon(50,100,70,200)\n",
    "p3 = create_polygon(10,200,40,300)\n",
    "p4 = create_polygon(50,50,100,250)\n",
    "p5 = create_polygon(80,100,110,200)\n",
    "p6 = create_polygon(160,350,170,400)\n",
    "p7 = create_polygon(150,300,180,500)\n",
    "p8 = create_polygon(160,350,170,400)\n",
    "p9 = create_polygon(20,301,40,350)"
   ]
  },
  {
   "cell_type": "code",
   "execution_count": 59,
   "metadata": {},
   "outputs": [],
   "source": [
    "polygon_set = [p1,p2,p3,p4,p5,p6,p7,p8,p9]"
   ]
  },
  {
   "cell_type": "code",
   "execution_count": 60,
   "metadata": {},
   "outputs": [
    {
     "data": {
      "application/vnd.plotly.v1+json": {
       "config": {
        "plotlyServerURL": "https://plot.ly"
       },
       "data": [
        {
         "name": "p1",
         "type": "scatter",
         "x": [
          10,
          10,
          40,
          40,
          10
         ],
         "y": [
          100,
          200,
          200,
          100,
          100
         ]
        },
        {
         "name": "p2",
         "type": "scatter",
         "x": [
          50,
          50,
          70,
          70,
          50
         ],
         "y": [
          100,
          200,
          200,
          100,
          100
         ]
        },
        {
         "name": "p3",
         "type": "scatter",
         "x": [
          10,
          10,
          40,
          40,
          10
         ],
         "y": [
          200,
          300,
          300,
          200,
          200
         ]
        },
        {
         "name": "p4",
         "type": "scatter",
         "x": [
          50,
          50,
          100,
          100,
          50
         ],
         "y": [
          50,
          250,
          250,
          50,
          50
         ]
        },
        {
         "name": "p5",
         "type": "scatter",
         "x": [
          80,
          80,
          110,
          110,
          80
         ],
         "y": [
          100,
          200,
          200,
          100,
          100
         ]
        },
        {
         "name": "p6",
         "type": "scatter",
         "x": [
          160,
          160,
          170,
          170,
          160
         ],
         "y": [
          350,
          400,
          400,
          350,
          350
         ]
        },
        {
         "name": "p7",
         "type": "scatter",
         "x": [
          150,
          150,
          180,
          180,
          150
         ],
         "y": [
          300,
          500,
          500,
          300,
          300
         ]
        },
        {
         "name": "p8",
         "type": "scatter",
         "x": [
          160,
          160,
          170,
          170,
          160
         ],
         "y": [
          350,
          400,
          400,
          350,
          350
         ]
        },
        {
         "name": "p9",
         "type": "scatter",
         "x": [
          20,
          20,
          40,
          40,
          20
         ],
         "y": [
          301,
          350,
          350,
          301,
          301
         ]
        }
       ],
       "layout": {
        "template": {
         "data": {
          "bar": [
           {
            "error_x": {
             "color": "#2a3f5f"
            },
            "error_y": {
             "color": "#2a3f5f"
            },
            "marker": {
             "line": {
              "color": "#E5ECF6",
              "width": 0.5
             }
            },
            "type": "bar"
           }
          ],
          "barpolar": [
           {
            "marker": {
             "line": {
              "color": "#E5ECF6",
              "width": 0.5
             }
            },
            "type": "barpolar"
           }
          ],
          "carpet": [
           {
            "aaxis": {
             "endlinecolor": "#2a3f5f",
             "gridcolor": "white",
             "linecolor": "white",
             "minorgridcolor": "white",
             "startlinecolor": "#2a3f5f"
            },
            "baxis": {
             "endlinecolor": "#2a3f5f",
             "gridcolor": "white",
             "linecolor": "white",
             "minorgridcolor": "white",
             "startlinecolor": "#2a3f5f"
            },
            "type": "carpet"
           }
          ],
          "choropleth": [
           {
            "colorbar": {
             "outlinewidth": 0,
             "ticks": ""
            },
            "type": "choropleth"
           }
          ],
          "contour": [
           {
            "colorbar": {
             "outlinewidth": 0,
             "ticks": ""
            },
            "colorscale": [
             [
              0,
              "#0d0887"
             ],
             [
              0.1111111111111111,
              "#46039f"
             ],
             [
              0.2222222222222222,
              "#7201a8"
             ],
             [
              0.3333333333333333,
              "#9c179e"
             ],
             [
              0.4444444444444444,
              "#bd3786"
             ],
             [
              0.5555555555555556,
              "#d8576b"
             ],
             [
              0.6666666666666666,
              "#ed7953"
             ],
             [
              0.7777777777777778,
              "#fb9f3a"
             ],
             [
              0.8888888888888888,
              "#fdca26"
             ],
             [
              1,
              "#f0f921"
             ]
            ],
            "type": "contour"
           }
          ],
          "contourcarpet": [
           {
            "colorbar": {
             "outlinewidth": 0,
             "ticks": ""
            },
            "type": "contourcarpet"
           }
          ],
          "heatmap": [
           {
            "colorbar": {
             "outlinewidth": 0,
             "ticks": ""
            },
            "colorscale": [
             [
              0,
              "#0d0887"
             ],
             [
              0.1111111111111111,
              "#46039f"
             ],
             [
              0.2222222222222222,
              "#7201a8"
             ],
             [
              0.3333333333333333,
              "#9c179e"
             ],
             [
              0.4444444444444444,
              "#bd3786"
             ],
             [
              0.5555555555555556,
              "#d8576b"
             ],
             [
              0.6666666666666666,
              "#ed7953"
             ],
             [
              0.7777777777777778,
              "#fb9f3a"
             ],
             [
              0.8888888888888888,
              "#fdca26"
             ],
             [
              1,
              "#f0f921"
             ]
            ],
            "type": "heatmap"
           }
          ],
          "heatmapgl": [
           {
            "colorbar": {
             "outlinewidth": 0,
             "ticks": ""
            },
            "colorscale": [
             [
              0,
              "#0d0887"
             ],
             [
              0.1111111111111111,
              "#46039f"
             ],
             [
              0.2222222222222222,
              "#7201a8"
             ],
             [
              0.3333333333333333,
              "#9c179e"
             ],
             [
              0.4444444444444444,
              "#bd3786"
             ],
             [
              0.5555555555555556,
              "#d8576b"
             ],
             [
              0.6666666666666666,
              "#ed7953"
             ],
             [
              0.7777777777777778,
              "#fb9f3a"
             ],
             [
              0.8888888888888888,
              "#fdca26"
             ],
             [
              1,
              "#f0f921"
             ]
            ],
            "type": "heatmapgl"
           }
          ],
          "histogram": [
           {
            "marker": {
             "colorbar": {
              "outlinewidth": 0,
              "ticks": ""
             }
            },
            "type": "histogram"
           }
          ],
          "histogram2d": [
           {
            "colorbar": {
             "outlinewidth": 0,
             "ticks": ""
            },
            "colorscale": [
             [
              0,
              "#0d0887"
             ],
             [
              0.1111111111111111,
              "#46039f"
             ],
             [
              0.2222222222222222,
              "#7201a8"
             ],
             [
              0.3333333333333333,
              "#9c179e"
             ],
             [
              0.4444444444444444,
              "#bd3786"
             ],
             [
              0.5555555555555556,
              "#d8576b"
             ],
             [
              0.6666666666666666,
              "#ed7953"
             ],
             [
              0.7777777777777778,
              "#fb9f3a"
             ],
             [
              0.8888888888888888,
              "#fdca26"
             ],
             [
              1,
              "#f0f921"
             ]
            ],
            "type": "histogram2d"
           }
          ],
          "histogram2dcontour": [
           {
            "colorbar": {
             "outlinewidth": 0,
             "ticks": ""
            },
            "colorscale": [
             [
              0,
              "#0d0887"
             ],
             [
              0.1111111111111111,
              "#46039f"
             ],
             [
              0.2222222222222222,
              "#7201a8"
             ],
             [
              0.3333333333333333,
              "#9c179e"
             ],
             [
              0.4444444444444444,
              "#bd3786"
             ],
             [
              0.5555555555555556,
              "#d8576b"
             ],
             [
              0.6666666666666666,
              "#ed7953"
             ],
             [
              0.7777777777777778,
              "#fb9f3a"
             ],
             [
              0.8888888888888888,
              "#fdca26"
             ],
             [
              1,
              "#f0f921"
             ]
            ],
            "type": "histogram2dcontour"
           }
          ],
          "mesh3d": [
           {
            "colorbar": {
             "outlinewidth": 0,
             "ticks": ""
            },
            "type": "mesh3d"
           }
          ],
          "parcoords": [
           {
            "line": {
             "colorbar": {
              "outlinewidth": 0,
              "ticks": ""
             }
            },
            "type": "parcoords"
           }
          ],
          "pie": [
           {
            "automargin": true,
            "type": "pie"
           }
          ],
          "scatter": [
           {
            "marker": {
             "colorbar": {
              "outlinewidth": 0,
              "ticks": ""
             }
            },
            "type": "scatter"
           }
          ],
          "scatter3d": [
           {
            "line": {
             "colorbar": {
              "outlinewidth": 0,
              "ticks": ""
             }
            },
            "marker": {
             "colorbar": {
              "outlinewidth": 0,
              "ticks": ""
             }
            },
            "type": "scatter3d"
           }
          ],
          "scattercarpet": [
           {
            "marker": {
             "colorbar": {
              "outlinewidth": 0,
              "ticks": ""
             }
            },
            "type": "scattercarpet"
           }
          ],
          "scattergeo": [
           {
            "marker": {
             "colorbar": {
              "outlinewidth": 0,
              "ticks": ""
             }
            },
            "type": "scattergeo"
           }
          ],
          "scattergl": [
           {
            "marker": {
             "colorbar": {
              "outlinewidth": 0,
              "ticks": ""
             }
            },
            "type": "scattergl"
           }
          ],
          "scattermapbox": [
           {
            "marker": {
             "colorbar": {
              "outlinewidth": 0,
              "ticks": ""
             }
            },
            "type": "scattermapbox"
           }
          ],
          "scatterpolar": [
           {
            "marker": {
             "colorbar": {
              "outlinewidth": 0,
              "ticks": ""
             }
            },
            "type": "scatterpolar"
           }
          ],
          "scatterpolargl": [
           {
            "marker": {
             "colorbar": {
              "outlinewidth": 0,
              "ticks": ""
             }
            },
            "type": "scatterpolargl"
           }
          ],
          "scatterternary": [
           {
            "marker": {
             "colorbar": {
              "outlinewidth": 0,
              "ticks": ""
             }
            },
            "type": "scatterternary"
           }
          ],
          "surface": [
           {
            "colorbar": {
             "outlinewidth": 0,
             "ticks": ""
            },
            "colorscale": [
             [
              0,
              "#0d0887"
             ],
             [
              0.1111111111111111,
              "#46039f"
             ],
             [
              0.2222222222222222,
              "#7201a8"
             ],
             [
              0.3333333333333333,
              "#9c179e"
             ],
             [
              0.4444444444444444,
              "#bd3786"
             ],
             [
              0.5555555555555556,
              "#d8576b"
             ],
             [
              0.6666666666666666,
              "#ed7953"
             ],
             [
              0.7777777777777778,
              "#fb9f3a"
             ],
             [
              0.8888888888888888,
              "#fdca26"
             ],
             [
              1,
              "#f0f921"
             ]
            ],
            "type": "surface"
           }
          ],
          "table": [
           {
            "cells": {
             "fill": {
              "color": "#EBF0F8"
             },
             "line": {
              "color": "white"
             }
            },
            "header": {
             "fill": {
              "color": "#C8D4E3"
             },
             "line": {
              "color": "white"
             }
            },
            "type": "table"
           }
          ]
         },
         "layout": {
          "annotationdefaults": {
           "arrowcolor": "#2a3f5f",
           "arrowhead": 0,
           "arrowwidth": 1
          },
          "coloraxis": {
           "colorbar": {
            "outlinewidth": 0,
            "ticks": ""
           }
          },
          "colorscale": {
           "diverging": [
            [
             0,
             "#8e0152"
            ],
            [
             0.1,
             "#c51b7d"
            ],
            [
             0.2,
             "#de77ae"
            ],
            [
             0.3,
             "#f1b6da"
            ],
            [
             0.4,
             "#fde0ef"
            ],
            [
             0.5,
             "#f7f7f7"
            ],
            [
             0.6,
             "#e6f5d0"
            ],
            [
             0.7,
             "#b8e186"
            ],
            [
             0.8,
             "#7fbc41"
            ],
            [
             0.9,
             "#4d9221"
            ],
            [
             1,
             "#276419"
            ]
           ],
           "sequential": [
            [
             0,
             "#0d0887"
            ],
            [
             0.1111111111111111,
             "#46039f"
            ],
            [
             0.2222222222222222,
             "#7201a8"
            ],
            [
             0.3333333333333333,
             "#9c179e"
            ],
            [
             0.4444444444444444,
             "#bd3786"
            ],
            [
             0.5555555555555556,
             "#d8576b"
            ],
            [
             0.6666666666666666,
             "#ed7953"
            ],
            [
             0.7777777777777778,
             "#fb9f3a"
            ],
            [
             0.8888888888888888,
             "#fdca26"
            ],
            [
             1,
             "#f0f921"
            ]
           ],
           "sequentialminus": [
            [
             0,
             "#0d0887"
            ],
            [
             0.1111111111111111,
             "#46039f"
            ],
            [
             0.2222222222222222,
             "#7201a8"
            ],
            [
             0.3333333333333333,
             "#9c179e"
            ],
            [
             0.4444444444444444,
             "#bd3786"
            ],
            [
             0.5555555555555556,
             "#d8576b"
            ],
            [
             0.6666666666666666,
             "#ed7953"
            ],
            [
             0.7777777777777778,
             "#fb9f3a"
            ],
            [
             0.8888888888888888,
             "#fdca26"
            ],
            [
             1,
             "#f0f921"
            ]
           ]
          },
          "colorway": [
           "#636efa",
           "#EF553B",
           "#00cc96",
           "#ab63fa",
           "#FFA15A",
           "#19d3f3",
           "#FF6692",
           "#B6E880",
           "#FF97FF",
           "#FECB52"
          ],
          "font": {
           "color": "#2a3f5f"
          },
          "geo": {
           "bgcolor": "white",
           "lakecolor": "white",
           "landcolor": "#E5ECF6",
           "showlakes": true,
           "showland": true,
           "subunitcolor": "white"
          },
          "hoverlabel": {
           "align": "left"
          },
          "hovermode": "closest",
          "mapbox": {
           "style": "light"
          },
          "paper_bgcolor": "white",
          "plot_bgcolor": "#E5ECF6",
          "polar": {
           "angularaxis": {
            "gridcolor": "white",
            "linecolor": "white",
            "ticks": ""
           },
           "bgcolor": "#E5ECF6",
           "radialaxis": {
            "gridcolor": "white",
            "linecolor": "white",
            "ticks": ""
           }
          },
          "scene": {
           "xaxis": {
            "backgroundcolor": "#E5ECF6",
            "gridcolor": "white",
            "gridwidth": 2,
            "linecolor": "white",
            "showbackground": true,
            "ticks": "",
            "zerolinecolor": "white"
           },
           "yaxis": {
            "backgroundcolor": "#E5ECF6",
            "gridcolor": "white",
            "gridwidth": 2,
            "linecolor": "white",
            "showbackground": true,
            "ticks": "",
            "zerolinecolor": "white"
           },
           "zaxis": {
            "backgroundcolor": "#E5ECF6",
            "gridcolor": "white",
            "gridwidth": 2,
            "linecolor": "white",
            "showbackground": true,
            "ticks": "",
            "zerolinecolor": "white"
           }
          },
          "shapedefaults": {
           "line": {
            "color": "#2a3f5f"
           }
          },
          "ternary": {
           "aaxis": {
            "gridcolor": "white",
            "linecolor": "white",
            "ticks": ""
           },
           "baxis": {
            "gridcolor": "white",
            "linecolor": "white",
            "ticks": ""
           },
           "bgcolor": "#E5ECF6",
           "caxis": {
            "gridcolor": "white",
            "linecolor": "white",
            "ticks": ""
           }
          },
          "title": {
           "x": 0.05
          },
          "xaxis": {
           "automargin": true,
           "gridcolor": "white",
           "linecolor": "white",
           "ticks": "",
           "title": {
            "standoff": 15
           },
           "zerolinecolor": "white",
           "zerolinewidth": 2
          },
          "yaxis": {
           "automargin": true,
           "gridcolor": "white",
           "linecolor": "white",
           "ticks": "",
           "title": {
            "standoff": 15
           },
           "zerolinecolor": "white",
           "zerolinewidth": 2
          }
         }
        }
       }
      },
      "text/html": [
       "<div>\n",
       "        \n",
       "        \n",
       "            <div id=\"046a825b-340b-4048-813d-a22f94b993f3\" class=\"plotly-graph-div\" style=\"height:525px; width:100%;\"></div>\n",
       "            <script type=\"text/javascript\">\n",
       "                require([\"plotly\"], function(Plotly) {\n",
       "                    window.PLOTLYENV=window.PLOTLYENV || {};\n",
       "                    \n",
       "                if (document.getElementById(\"046a825b-340b-4048-813d-a22f94b993f3\")) {\n",
       "                    Plotly.newPlot(\n",
       "                        '046a825b-340b-4048-813d-a22f94b993f3',\n",
       "                        [{\"name\": \"p1\", \"type\": \"scatter\", \"x\": [10, 10, 40, 40, 10], \"y\": [100, 200, 200, 100, 100]}, {\"name\": \"p2\", \"type\": \"scatter\", \"x\": [50, 50, 70, 70, 50], \"y\": [100, 200, 200, 100, 100]}, {\"name\": \"p3\", \"type\": \"scatter\", \"x\": [10, 10, 40, 40, 10], \"y\": [200, 300, 300, 200, 200]}, {\"name\": \"p4\", \"type\": \"scatter\", \"x\": [50, 50, 100, 100, 50], \"y\": [50, 250, 250, 50, 50]}, {\"name\": \"p5\", \"type\": \"scatter\", \"x\": [80, 80, 110, 110, 80], \"y\": [100, 200, 200, 100, 100]}, {\"name\": \"p6\", \"type\": \"scatter\", \"x\": [160, 160, 170, 170, 160], \"y\": [350, 400, 400, 350, 350]}, {\"name\": \"p7\", \"type\": \"scatter\", \"x\": [150, 150, 180, 180, 150], \"y\": [300, 500, 500, 300, 300]}, {\"name\": \"p8\", \"type\": \"scatter\", \"x\": [160, 160, 170, 170, 160], \"y\": [350, 400, 400, 350, 350]}, {\"name\": \"p9\", \"type\": \"scatter\", \"x\": [20, 20, 40, 40, 20], \"y\": [301, 350, 350, 301, 301]}],\n",
       "                        {\"template\": {\"data\": {\"bar\": [{\"error_x\": {\"color\": \"#2a3f5f\"}, \"error_y\": {\"color\": \"#2a3f5f\"}, \"marker\": {\"line\": {\"color\": \"#E5ECF6\", \"width\": 0.5}}, \"type\": \"bar\"}], \"barpolar\": [{\"marker\": {\"line\": {\"color\": \"#E5ECF6\", \"width\": 0.5}}, \"type\": \"barpolar\"}], \"carpet\": [{\"aaxis\": {\"endlinecolor\": \"#2a3f5f\", \"gridcolor\": \"white\", \"linecolor\": \"white\", \"minorgridcolor\": \"white\", \"startlinecolor\": \"#2a3f5f\"}, \"baxis\": {\"endlinecolor\": \"#2a3f5f\", \"gridcolor\": \"white\", \"linecolor\": \"white\", \"minorgridcolor\": \"white\", \"startlinecolor\": \"#2a3f5f\"}, \"type\": \"carpet\"}], \"choropleth\": [{\"colorbar\": {\"outlinewidth\": 0, \"ticks\": \"\"}, \"type\": \"choropleth\"}], \"contour\": [{\"colorbar\": {\"outlinewidth\": 0, \"ticks\": \"\"}, \"colorscale\": [[0.0, \"#0d0887\"], [0.1111111111111111, \"#46039f\"], [0.2222222222222222, \"#7201a8\"], [0.3333333333333333, \"#9c179e\"], [0.4444444444444444, \"#bd3786\"], [0.5555555555555556, \"#d8576b\"], [0.6666666666666666, \"#ed7953\"], [0.7777777777777778, \"#fb9f3a\"], [0.8888888888888888, \"#fdca26\"], [1.0, \"#f0f921\"]], \"type\": \"contour\"}], \"contourcarpet\": [{\"colorbar\": {\"outlinewidth\": 0, \"ticks\": \"\"}, \"type\": \"contourcarpet\"}], \"heatmap\": [{\"colorbar\": {\"outlinewidth\": 0, \"ticks\": \"\"}, \"colorscale\": [[0.0, \"#0d0887\"], [0.1111111111111111, \"#46039f\"], [0.2222222222222222, \"#7201a8\"], [0.3333333333333333, \"#9c179e\"], [0.4444444444444444, \"#bd3786\"], [0.5555555555555556, \"#d8576b\"], [0.6666666666666666, \"#ed7953\"], [0.7777777777777778, \"#fb9f3a\"], [0.8888888888888888, \"#fdca26\"], [1.0, \"#f0f921\"]], \"type\": \"heatmap\"}], \"heatmapgl\": [{\"colorbar\": {\"outlinewidth\": 0, \"ticks\": \"\"}, \"colorscale\": [[0.0, \"#0d0887\"], [0.1111111111111111, \"#46039f\"], [0.2222222222222222, \"#7201a8\"], [0.3333333333333333, \"#9c179e\"], [0.4444444444444444, \"#bd3786\"], [0.5555555555555556, \"#d8576b\"], [0.6666666666666666, \"#ed7953\"], [0.7777777777777778, \"#fb9f3a\"], [0.8888888888888888, \"#fdca26\"], [1.0, \"#f0f921\"]], \"type\": \"heatmapgl\"}], \"histogram\": [{\"marker\": {\"colorbar\": {\"outlinewidth\": 0, \"ticks\": \"\"}}, \"type\": \"histogram\"}], \"histogram2d\": [{\"colorbar\": {\"outlinewidth\": 0, \"ticks\": \"\"}, \"colorscale\": [[0.0, \"#0d0887\"], [0.1111111111111111, \"#46039f\"], [0.2222222222222222, \"#7201a8\"], [0.3333333333333333, \"#9c179e\"], [0.4444444444444444, \"#bd3786\"], [0.5555555555555556, \"#d8576b\"], [0.6666666666666666, \"#ed7953\"], [0.7777777777777778, \"#fb9f3a\"], [0.8888888888888888, \"#fdca26\"], [1.0, \"#f0f921\"]], \"type\": \"histogram2d\"}], \"histogram2dcontour\": [{\"colorbar\": {\"outlinewidth\": 0, \"ticks\": \"\"}, \"colorscale\": [[0.0, \"#0d0887\"], [0.1111111111111111, \"#46039f\"], [0.2222222222222222, \"#7201a8\"], [0.3333333333333333, \"#9c179e\"], [0.4444444444444444, \"#bd3786\"], [0.5555555555555556, \"#d8576b\"], [0.6666666666666666, \"#ed7953\"], [0.7777777777777778, \"#fb9f3a\"], [0.8888888888888888, \"#fdca26\"], [1.0, \"#f0f921\"]], \"type\": \"histogram2dcontour\"}], \"mesh3d\": [{\"colorbar\": {\"outlinewidth\": 0, \"ticks\": \"\"}, \"type\": \"mesh3d\"}], \"parcoords\": [{\"line\": {\"colorbar\": {\"outlinewidth\": 0, \"ticks\": \"\"}}, \"type\": \"parcoords\"}], \"pie\": [{\"automargin\": true, \"type\": \"pie\"}], \"scatter\": [{\"marker\": {\"colorbar\": {\"outlinewidth\": 0, \"ticks\": \"\"}}, \"type\": \"scatter\"}], \"scatter3d\": [{\"line\": {\"colorbar\": {\"outlinewidth\": 0, \"ticks\": \"\"}}, \"marker\": {\"colorbar\": {\"outlinewidth\": 0, \"ticks\": \"\"}}, \"type\": \"scatter3d\"}], \"scattercarpet\": [{\"marker\": {\"colorbar\": {\"outlinewidth\": 0, \"ticks\": \"\"}}, \"type\": \"scattercarpet\"}], \"scattergeo\": [{\"marker\": {\"colorbar\": {\"outlinewidth\": 0, \"ticks\": \"\"}}, \"type\": \"scattergeo\"}], \"scattergl\": [{\"marker\": {\"colorbar\": {\"outlinewidth\": 0, \"ticks\": \"\"}}, \"type\": \"scattergl\"}], \"scattermapbox\": [{\"marker\": {\"colorbar\": {\"outlinewidth\": 0, \"ticks\": \"\"}}, \"type\": \"scattermapbox\"}], \"scatterpolar\": [{\"marker\": {\"colorbar\": {\"outlinewidth\": 0, \"ticks\": \"\"}}, \"type\": \"scatterpolar\"}], \"scatterpolargl\": [{\"marker\": {\"colorbar\": {\"outlinewidth\": 0, \"ticks\": \"\"}}, \"type\": \"scatterpolargl\"}], \"scatterternary\": [{\"marker\": {\"colorbar\": {\"outlinewidth\": 0, \"ticks\": \"\"}}, \"type\": \"scatterternary\"}], \"surface\": [{\"colorbar\": {\"outlinewidth\": 0, \"ticks\": \"\"}, \"colorscale\": [[0.0, \"#0d0887\"], [0.1111111111111111, \"#46039f\"], [0.2222222222222222, \"#7201a8\"], [0.3333333333333333, \"#9c179e\"], [0.4444444444444444, \"#bd3786\"], [0.5555555555555556, \"#d8576b\"], [0.6666666666666666, \"#ed7953\"], [0.7777777777777778, \"#fb9f3a\"], [0.8888888888888888, \"#fdca26\"], [1.0, \"#f0f921\"]], \"type\": \"surface\"}], \"table\": [{\"cells\": {\"fill\": {\"color\": \"#EBF0F8\"}, \"line\": {\"color\": \"white\"}}, \"header\": {\"fill\": {\"color\": \"#C8D4E3\"}, \"line\": {\"color\": \"white\"}}, \"type\": \"table\"}]}, \"layout\": {\"annotationdefaults\": {\"arrowcolor\": \"#2a3f5f\", \"arrowhead\": 0, \"arrowwidth\": 1}, \"coloraxis\": {\"colorbar\": {\"outlinewidth\": 0, \"ticks\": \"\"}}, \"colorscale\": {\"diverging\": [[0, \"#8e0152\"], [0.1, \"#c51b7d\"], [0.2, \"#de77ae\"], [0.3, \"#f1b6da\"], [0.4, \"#fde0ef\"], [0.5, \"#f7f7f7\"], [0.6, \"#e6f5d0\"], [0.7, \"#b8e186\"], [0.8, \"#7fbc41\"], [0.9, \"#4d9221\"], [1, \"#276419\"]], \"sequential\": [[0.0, \"#0d0887\"], [0.1111111111111111, \"#46039f\"], [0.2222222222222222, \"#7201a8\"], [0.3333333333333333, \"#9c179e\"], [0.4444444444444444, \"#bd3786\"], [0.5555555555555556, \"#d8576b\"], [0.6666666666666666, \"#ed7953\"], [0.7777777777777778, \"#fb9f3a\"], [0.8888888888888888, \"#fdca26\"], [1.0, \"#f0f921\"]], \"sequentialminus\": [[0.0, \"#0d0887\"], [0.1111111111111111, \"#46039f\"], [0.2222222222222222, \"#7201a8\"], [0.3333333333333333, \"#9c179e\"], [0.4444444444444444, \"#bd3786\"], [0.5555555555555556, \"#d8576b\"], [0.6666666666666666, \"#ed7953\"], [0.7777777777777778, \"#fb9f3a\"], [0.8888888888888888, \"#fdca26\"], [1.0, \"#f0f921\"]]}, \"colorway\": [\"#636efa\", \"#EF553B\", \"#00cc96\", \"#ab63fa\", \"#FFA15A\", \"#19d3f3\", \"#FF6692\", \"#B6E880\", \"#FF97FF\", \"#FECB52\"], \"font\": {\"color\": \"#2a3f5f\"}, \"geo\": {\"bgcolor\": \"white\", \"lakecolor\": \"white\", \"landcolor\": \"#E5ECF6\", \"showlakes\": true, \"showland\": true, \"subunitcolor\": \"white\"}, \"hoverlabel\": {\"align\": \"left\"}, \"hovermode\": \"closest\", \"mapbox\": {\"style\": \"light\"}, \"paper_bgcolor\": \"white\", \"plot_bgcolor\": \"#E5ECF6\", \"polar\": {\"angularaxis\": {\"gridcolor\": \"white\", \"linecolor\": \"white\", \"ticks\": \"\"}, \"bgcolor\": \"#E5ECF6\", \"radialaxis\": {\"gridcolor\": \"white\", \"linecolor\": \"white\", \"ticks\": \"\"}}, \"scene\": {\"xaxis\": {\"backgroundcolor\": \"#E5ECF6\", \"gridcolor\": \"white\", \"gridwidth\": 2, \"linecolor\": \"white\", \"showbackground\": true, \"ticks\": \"\", \"zerolinecolor\": \"white\"}, \"yaxis\": {\"backgroundcolor\": \"#E5ECF6\", \"gridcolor\": \"white\", \"gridwidth\": 2, \"linecolor\": \"white\", \"showbackground\": true, \"ticks\": \"\", \"zerolinecolor\": \"white\"}, \"zaxis\": {\"backgroundcolor\": \"#E5ECF6\", \"gridcolor\": \"white\", \"gridwidth\": 2, \"linecolor\": \"white\", \"showbackground\": true, \"ticks\": \"\", \"zerolinecolor\": \"white\"}}, \"shapedefaults\": {\"line\": {\"color\": \"#2a3f5f\"}}, \"ternary\": {\"aaxis\": {\"gridcolor\": \"white\", \"linecolor\": \"white\", \"ticks\": \"\"}, \"baxis\": {\"gridcolor\": \"white\", \"linecolor\": \"white\", \"ticks\": \"\"}, \"bgcolor\": \"#E5ECF6\", \"caxis\": {\"gridcolor\": \"white\", \"linecolor\": \"white\", \"ticks\": \"\"}}, \"title\": {\"x\": 0.05}, \"xaxis\": {\"automargin\": true, \"gridcolor\": \"white\", \"linecolor\": \"white\", \"ticks\": \"\", \"title\": {\"standoff\": 15}, \"zerolinecolor\": \"white\", \"zerolinewidth\": 2}, \"yaxis\": {\"automargin\": true, \"gridcolor\": \"white\", \"linecolor\": \"white\", \"ticks\": \"\", \"title\": {\"standoff\": 15}, \"zerolinecolor\": \"white\", \"zerolinewidth\": 2}}}},\n",
       "                        {\"responsive\": true}\n",
       "                    ).then(function(){\n",
       "                            \n",
       "var gd = document.getElementById('046a825b-340b-4048-813d-a22f94b993f3');\n",
       "var x = new MutationObserver(function (mutations, observer) {{\n",
       "        var display = window.getComputedStyle(gd).display;\n",
       "        if (!display || display === 'none') {{\n",
       "            console.log([gd, 'removed!']);\n",
       "            Plotly.purge(gd);\n",
       "            observer.disconnect();\n",
       "        }}\n",
       "}});\n",
       "\n",
       "// Listen for the removal of the full notebook cells\n",
       "var notebookContainer = gd.closest('#notebook-container');\n",
       "if (notebookContainer) {{\n",
       "    x.observe(notebookContainer, {childList: true});\n",
       "}}\n",
       "\n",
       "// Listen for the clearing of the current output cell\n",
       "var outputEl = gd.closest('.output');\n",
       "if (outputEl) {{\n",
       "    x.observe(outputEl, {childList: true});\n",
       "}}\n",
       "\n",
       "                        })\n",
       "                };\n",
       "                });\n",
       "            </script>\n",
       "        </div>"
      ]
     },
     "metadata": {},
     "output_type": "display_data"
    }
   ],
   "source": [
    "fig = go.Figure()\n",
    "\n",
    "for i in range(len(polygon_set)):\n",
    "    fig.add_trace(go.Scatter(\n",
    "        x=polygon_set[i][1],\n",
    "        y=polygon_set[i][2],\n",
    "        name = \"p\"+str(i+1) # legend entry \n",
    "    ))\n",
    "    \n",
    "fig.show()"
   ]
  },
  {
   "cell_type": "code",
   "execution_count": 61,
   "metadata": {},
   "outputs": [],
   "source": [
    "# # DC check\n",
    "# p1[3].disjoint(p2[3])\n",
    "# p1[3].disjoint(p3[3])\n",
    "# p4[3].disjoint(p5[3])"
   ]
  },
  {
   "cell_type": "code",
   "execution_count": 62,
   "metadata": {},
   "outputs": [],
   "source": [
    "# #EC check\n",
    "# p1[3].intersection(p3[3]).geom_type == 'LineString'"
   ]
  },
  {
   "cell_type": "code",
   "execution_count": 63,
   "metadata": {},
   "outputs": [],
   "source": [
    "# # EQ check\n",
    "# (p6[3].intersection(p8[3]) == p6[3]) and (p6[3].intersection(p8[3]) == p8[3])"
   ]
  },
  {
   "cell_type": "code",
   "execution_count": 64,
   "metadata": {},
   "outputs": [],
   "source": [
    "#TPP check\n",
    "def tangential_touch_check(p1,p2):\n",
    "    '''\n",
    "    input: two polygons\n",
    "    output: True/False\n",
    "    '''\n",
    "    TPP_flag = False\n",
    "    for i in range(4):\n",
    "        if p1.bounds[i]==p2.bounds[i]:\n",
    "            TPP_flag = True\n",
    "            break\n",
    "    return TPP_flag"
   ]
  },
  {
   "cell_type": "code",
   "execution_count": 65,
   "metadata": {},
   "outputs": [],
   "source": [
    "# RCC-8 code\n",
    "def rcc_8_check(p1,p2):\n",
    "    '''\n",
    "    input: two polygons\n",
    "    output: rcc-8 representation\n",
    "    '''\n",
    "    representation = \"ND\"\n",
    "    if p1.disjoint(p2):\n",
    "        if p1.distance(p2)<=1:\n",
    "            representation = \"EC\"\n",
    "        else:\n",
    "            representation = \"DC\"\n",
    "    else:\n",
    "        if p1.intersection(p2).geom_type == \"LineString\":\n",
    "            representation = \"EC\"\n",
    "        elif ((p1.intersection(p2)==p1) and (p1.intersection(p2)==p2)):\n",
    "            representation = \"EQ\"\n",
    "        elif p1.within(p2):\n",
    "            representation = \"TPP\" if tangential_touch_check(p1,p2) else \"NTPP\"\n",
    "        elif p2.within(p1):\n",
    "            representation = \"TPPi\" if tangential_touch_check(p1,p2) else \"NTPPi\"\n",
    "        elif ((p1.intersection(p2)!=p1) and (p1.intersection(p2)!=p2)):\n",
    "            representation = \"PO\"\n",
    "#             overlap_polygon = p1.intersection(p2)\n",
    "#             smallest_side = min(quardratic_equation_solver(1,-overlap_polygon.length/2,overlap_polygon.area))\n",
    "#             #the adjustment is done to account for noice\n",
    "#             if smallest_side <=1:\n",
    "#                 representation = \"EC\"\n",
    "#             else:\n",
    "#                 representation = \"PO\"\n",
    "        else:\n",
    "            print(p1.intersection(p2))\n",
    "            \n",
    "    return representation"
   ]
  },
  {
   "cell_type": "code",
   "execution_count": 66,
   "metadata": {},
   "outputs": [
    {
     "name": "stdout",
     "output_type": "stream",
     "text": [
      "1 1 EQ\n",
      "1 2 DC\n",
      "1 3 EC\n",
      "1 4 DC\n",
      "1 5 DC\n",
      "1 6 DC\n",
      "1 7 DC\n",
      "1 8 DC\n",
      "1 9 DC\n",
      "2 1 DC\n",
      "2 2 EQ\n",
      "2 3 DC\n",
      "2 4 TPP\n",
      "2 5 DC\n",
      "2 6 DC\n",
      "2 7 DC\n",
      "2 8 DC\n",
      "2 9 DC\n",
      "3 1 EC\n",
      "3 2 DC\n",
      "3 3 EQ\n",
      "3 4 DC\n",
      "3 5 DC\n",
      "3 6 DC\n",
      "3 7 DC\n",
      "3 8 DC\n",
      "3 9 DC\n",
      "4 1 DC\n",
      "4 2 TPPi\n",
      "4 3 DC\n",
      "4 4 EQ\n",
      "4 5 PO\n",
      "4 6 DC\n",
      "4 7 DC\n",
      "4 8 DC\n",
      "4 9 DC\n",
      "5 1 DC\n",
      "5 2 DC\n",
      "5 3 DC\n",
      "5 4 PO\n",
      "5 5 EQ\n",
      "5 6 DC\n",
      "5 7 DC\n",
      "5 8 DC\n",
      "5 9 DC\n",
      "6 1 DC\n",
      "6 2 DC\n",
      "6 3 DC\n",
      "6 4 DC\n",
      "6 5 DC\n",
      "6 6 EQ\n",
      "6 7 NTPP\n",
      "6 8 EQ\n",
      "6 9 DC\n",
      "7 1 DC\n",
      "7 2 DC\n",
      "7 3 DC\n",
      "7 4 DC\n",
      "7 5 DC\n",
      "7 6 NTPPi\n",
      "7 7 EQ\n",
      "7 8 NTPPi\n",
      "7 9 DC\n",
      "8 1 DC\n",
      "8 2 DC\n",
      "8 3 DC\n",
      "8 4 DC\n",
      "8 5 DC\n",
      "8 6 EQ\n",
      "8 7 NTPP\n",
      "8 8 EQ\n",
      "8 9 DC\n",
      "9 1 DC\n",
      "9 2 DC\n",
      "9 3 DC\n",
      "9 4 DC\n",
      "9 5 DC\n",
      "9 6 DC\n",
      "9 7 DC\n",
      "9 8 DC\n",
      "9 9 EQ\n"
     ]
    }
   ],
   "source": [
    "for Pi in range(len(polygon_set)):\n",
    "    for Pj in range(len(polygon_set)):\n",
    "        rep = rcc_8_check(polygon_set[Pi][3],polygon_set[Pj][3])\n",
    "        print(Pi+1,Pj+1,rep)"
   ]
  },
  {
   "cell_type": "code",
   "execution_count": 12,
   "metadata": {},
   "outputs": [],
   "source": [
    "#QDC code"
   ]
  },
  {
   "cell_type": "code",
   "execution_count": 13,
   "metadata": {},
   "outputs": [
    {
     "data": {
      "text/plain": [
       "False"
      ]
     },
     "execution_count": 13,
     "metadata": {},
     "output_type": "execute_result"
    }
   ],
   "source": [
    "#touches relation - to\n",
    "p1[3].disjoint(p2[3])\n",
    "\n",
    "#far/near relation\n",
    "threshold = 70\n",
    "\n",
    "#creating the bigger polygon for relation check\n",
    "p0xmin, p0ymin, p0xmax, p0ymax = (np.array(p1[3].bounds)+(-threshold,-threshold,threshold,threshold))\n",
    "p0 = create_polygon(p0xmin, p0ymin, p0xmax, p0ymax)\n",
    "\n",
    "#if false: nr , true: fr\n",
    "p0[3].disjoint(p2[3])"
   ]
  },
  {
   "cell_type": "code",
   "execution_count": 14,
   "metadata": {},
   "outputs": [
    {
     "data": {
      "text/plain": [
       "False"
      ]
     },
     "execution_count": 14,
     "metadata": {},
     "output_type": "execute_result"
    }
   ],
   "source": [
    "p1[3].disjoint(p2[3]) == False"
   ]
  },
  {
   "cell_type": "code",
   "execution_count": 15,
   "metadata": {},
   "outputs": [],
   "source": [
    "def qdc_check(p1,p2,threshold_x =70, threshold_y = 70):\n",
    "    '''\n",
    "    input: two polygons, threshold to determine far/near\n",
    "    output: qdc representation\n",
    "    '''\n",
    "    representation = \"ND\"\n",
    "    if p1.disjoint(p2) == False:\n",
    "        representation = \"to\"\n",
    "    elif p1.disjoint(p2):\n",
    "        #create the bigger polygon for relation check\n",
    "        p0xmin, p0ymin, p0xmax, p0ymax = (np.array(p1.bounds)+(-threshold_x,-threshold_y,threshold_x,threshold_y))\n",
    "        p0 = create_polygon(p0xmin, p0ymin, p0xmax, p0ymax)[3]   \n",
    "        representation = \"fr\" if p0.disjoint(p2) else \"nr\"\n",
    "    else:\n",
    "        print(p1.intersection(p2))\n",
    "        print(p0.intersection(p2))\n",
    "    return representation"
   ]
  },
  {
   "cell_type": "code",
   "execution_count": 16,
   "metadata": {},
   "outputs": [
    {
     "name": "stdout",
     "output_type": "stream",
     "text": [
      "1 1 to\n",
      "1 2 nr\n",
      "1 3 to\n",
      "1 4 nr\n",
      "1 5 nr\n",
      "1 6 fr\n",
      "1 7 fr\n",
      "1 8 fr\n",
      "2 1 nr\n",
      "2 2 to\n",
      "2 3 nr\n",
      "2 4 to\n",
      "2 5 nr\n",
      "2 6 fr\n",
      "2 7 fr\n",
      "2 8 fr\n",
      "3 1 to\n",
      "3 2 nr\n",
      "3 3 to\n",
      "3 4 nr\n",
      "3 5 nr\n",
      "3 6 fr\n",
      "3 7 fr\n",
      "3 8 fr\n",
      "4 1 nr\n",
      "4 2 to\n",
      "4 3 nr\n",
      "4 4 to\n",
      "4 5 to\n",
      "4 6 fr\n",
      "4 7 nr\n",
      "4 8 fr\n",
      "5 1 nr\n",
      "5 2 nr\n",
      "5 3 nr\n",
      "5 4 to\n",
      "5 5 to\n",
      "5 6 fr\n",
      "5 7 fr\n",
      "5 8 fr\n",
      "6 1 fr\n",
      "6 2 fr\n",
      "6 3 fr\n",
      "6 4 fr\n",
      "6 5 fr\n",
      "6 6 to\n",
      "6 7 to\n",
      "6 8 to\n",
      "7 1 fr\n",
      "7 2 fr\n",
      "7 3 fr\n",
      "7 4 nr\n",
      "7 5 fr\n",
      "7 6 to\n",
      "7 7 to\n",
      "7 8 to\n",
      "8 1 fr\n",
      "8 2 fr\n",
      "8 3 fr\n",
      "8 4 fr\n",
      "8 5 fr\n",
      "8 6 to\n",
      "8 7 to\n",
      "8 8 to\n"
     ]
    }
   ],
   "source": [
    "for Pi in range(len(polygon_set)):\n",
    "    for Pj in range(len(polygon_set)):\n",
    "        rep = qdc_check(polygon_set[Pi][3],polygon_set[Pj][3])\n",
    "        print(Pi+1,Pj+1,rep)"
   ]
  },
  {
   "cell_type": "code",
   "execution_count": 17,
   "metadata": {},
   "outputs": [],
   "source": [
    "# STAR code"
   ]
  },
  {
   "cell_type": "code",
   "execution_count": 18,
   "metadata": {},
   "outputs": [],
   "source": [
    "c_x, c_y = p1[3].centroid.x,p1[3].centroid.y"
   ]
  },
  {
   "cell_type": "code",
   "execution_count": 19,
   "metadata": {},
   "outputs": [],
   "source": [
    "hypotenuse_len = 100"
   ]
  },
  {
   "cell_type": "code",
   "execution_count": 20,
   "metadata": {},
   "outputs": [],
   "source": [
    "triangle_ad_factor_cos = hypotenuse_len*np.cos(67.5*np.pi/180)\n",
    "triangle_ad_factor_sin = hypotenuse_len*np.sin(67.5*np.pi/180)"
   ]
  },
  {
   "cell_type": "code",
   "execution_count": 21,
   "metadata": {},
   "outputs": [
    {
     "data": {
      "text/plain": [
       "92.38795325112868"
      ]
     },
     "execution_count": 21,
     "metadata": {},
     "output_type": "execute_result"
    }
   ],
   "source": [
    "triangle_ad_factor_sin"
   ]
  },
  {
   "cell_type": "code",
   "execution_count": 22,
   "metadata": {},
   "outputs": [],
   "source": [
    "t0,t1,t2,t3,t4,t5,t6,t7 = 0,0,0,0,0,0,0,0"
   ]
  },
  {
   "cell_type": "code",
   "execution_count": 23,
   "metadata": {},
   "outputs": [],
   "source": [
    "def adjust_point(p,x_adjust,y_adjust):\n",
    "    '''\n",
    "    input: reference point, x-adjust point, y-adjust point\n",
    "    output: adjusted point\n",
    "    '''\n",
    "    p_adj = p[0]+x_adjust,p[1]+y_adjust\n",
    "    \n",
    "    return p_adj"
   ]
  },
  {
   "cell_type": "code",
   "execution_count": 24,
   "metadata": {},
   "outputs": [],
   "source": [
    "def triangles_for_STAR(p=(0,0),hypotenuse_len=500):\n",
    "    '''\n",
    "    input: reference point, hypotenuse length\n",
    "    output: coordinates of the STAR ref traingle \n",
    "    '''\n",
    "    cos_factor = hypotenuse_len*np.cos(67.5*np.pi/180)\n",
    "    sin_factor = hypotenuse_len*np.sin(67.5*np.pi/180)\n",
    "    \n",
    "    t1 = adjust_point(p,cos_factor,sin_factor)\n",
    "    t2 = adjust_point(p,sin_factor,cos_factor)\n",
    "    t3 = adjust_point(p,sin_factor,-cos_factor)\n",
    "    t4 = adjust_point(p,cos_factor,-sin_factor)\n",
    "    t5 = adjust_point(p,-cos_factor,-sin_factor)\n",
    "    t6 = adjust_point(p,-sin_factor,-cos_factor)\n",
    "    t7 = adjust_point(p,-sin_factor,cos_factor)\n",
    "    t8 = adjust_point(p,-cos_factor,sin_factor)\n",
    "    \n",
    "    STAR_rep = [\"tp\",\"tr\",\"rt\",\"br\",\"bt\",\"bl\",\"lt\",\"tl\"]\n",
    "    t = [t1,t2,t3,t4,t5,t6,t7,t8]\n",
    "        \n",
    "    polygon_list = []\n",
    "    \n",
    "    polygon_list.append([STAR_rep[0],Polygon([p,t1,t8])])\n",
    "    for i in range(1,8):\n",
    "        p0 = Polygon([p,t[i-1],t[i]])\n",
    "        polygon_list.append([STAR_rep[i],p0])\n",
    "        \n",
    "    return polygon_list"
   ]
  },
  {
   "cell_type": "code",
   "execution_count": 25,
   "metadata": {},
   "outputs": [],
   "source": [
    "def STAR_check(p1=(0,0),p=(0,0),hypotenuse_len=500):\n",
    "    '''\n",
    "    input: point to check, point of reference, hypotenuse length\n",
    "    output: STAR representation\n",
    "    '''\n",
    "    triangle_rep = triangles_for_STAR(p,hypotenuse_len)\n",
    "    \n",
    "    representation = \"ND\"\n",
    "    for i in range(8):\n",
    "        if Point(p1).disjoint(triangle_rep[i][1])==False:\n",
    "            representation = triangle_rep[i][0]\n",
    "            break\n",
    "            \n",
    "    return representation"
   ]
  },
  {
   "cell_type": "code",
   "execution_count": 26,
   "metadata": {},
   "outputs": [
    {
     "data": {
      "text/plain": [
       "'br'"
      ]
     },
     "execution_count": 26,
     "metadata": {},
     "output_type": "execute_result"
    }
   ],
   "source": [
    "STAR_check((100,-100),(0,0),1500)"
   ]
  },
  {
   "cell_type": "code",
   "execution_count": 94,
   "metadata": {},
   "outputs": [
    {
     "name": "stdout",
     "output_type": "stream",
     "text": [
      "1 1 tp\n",
      "2 1 rt\n",
      "3 1 tp\n",
      "4 1 rt\n",
      "5 1 rt\n",
      "6 1 tr\n",
      "7 1 tr\n",
      "8 1 tr\n",
      "1 2 lt\n",
      "2 2 tp\n",
      "3 2 tp\n",
      "4 2 rt\n",
      "5 2 rt\n",
      "6 2 tr\n",
      "7 2 tr\n",
      "8 2 tr\n",
      "1 3 bt\n",
      "2 3 bt\n",
      "3 3 tp\n",
      "4 3 br\n",
      "5 3 br\n",
      "6 3 tr\n",
      "7 3 tr\n",
      "8 3 tr\n",
      "1 4 lt\n",
      "2 4 lt\n",
      "3 4 tl\n",
      "4 4 tp\n",
      "5 4 rt\n",
      "6 4 tp\n",
      "7 4 tp\n",
      "8 4 tp\n",
      "1 5 lt\n",
      "2 5 lt\n",
      "3 5 tl\n",
      "4 5 lt\n",
      "5 5 tp\n",
      "6 5 tp\n",
      "7 5 tp\n",
      "8 5 tp\n",
      "1 6 bl\n",
      "2 6 bl\n",
      "3 6 bl\n",
      "4 6 bt\n",
      "5 6 bt\n",
      "6 6 tp\n",
      "7 6 tp\n",
      "8 6 tp\n",
      "1 7 bl\n",
      "2 7 bl\n",
      "3 7 bl\n",
      "4 7 bt\n",
      "5 7 bt\n",
      "6 7 bt\n",
      "7 7 tp\n",
      "8 7 bt\n",
      "1 8 bl\n",
      "2 8 bl\n",
      "3 8 bl\n",
      "4 8 bt\n",
      "5 8 bt\n",
      "6 8 tp\n",
      "7 8 tp\n",
      "8 8 tp\n"
     ]
    }
   ],
   "source": [
    "for Pi in range(len(polygon_set)):\n",
    "    for Pj in range(len(polygon_set)):\n",
    "        ref_point = (polygon_set[Pi][3].centroid.x,polygon_set[Pi][3].centroid.y)\n",
    "        check_obj = (polygon_set[Pj][3].centroid.x,polygon_set[Pj][3].centroid.y)\n",
    "        rep = STAR_check(check_obj,ref_point,1000)\n",
    "        \n",
    "        print(Pj+1,Pi+1,rep)\n",
    "        #print(check_obj,ref_point,rep)"
   ]
  },
  {
   "cell_type": "code",
   "execution_count": 59,
   "metadata": {},
   "outputs": [
    {
     "data": {
      "text/plain": [
       "[['tp', <shapely.geometry.polygon.Polygon at 0x1d269f15e48>],\n",
       " ['tr', <shapely.geometry.polygon.Polygon at 0x1d269f15e08>],\n",
       " ['rt', <shapely.geometry.polygon.Polygon at 0x1d269f15b88>],\n",
       " ['br', <shapely.geometry.polygon.Polygon at 0x1d269f15f08>],\n",
       " ['bt', <shapely.geometry.polygon.Polygon at 0x1d269f15d88>],\n",
       " ['bl', <shapely.geometry.polygon.Polygon at 0x1d269f1db08>],\n",
       " ['lt', <shapely.geometry.polygon.Polygon at 0x1d269f1df08>],\n",
       " ['tl', <shapely.geometry.polygon.Polygon at 0x1d269f1de88>]]"
      ]
     },
     "execution_count": 59,
     "metadata": {},
     "output_type": "execute_result"
    }
   ],
   "source": [
    "p2_triangle = triangles_for_STAR(p=(60,150),hypotenuse_len=500)\n",
    "p2_triangle"
   ]
  },
  {
   "cell_type": "code",
   "execution_count": 93,
   "metadata": {},
   "outputs": [
    {
     "data": {
      "application/vnd.plotly.v1+json": {
       "config": {
        "plotlyServerURL": "https://plot.ly"
       },
       "data": [
        {
         "name": "p1",
         "type": "scatter",
         "x": [
          10,
          10,
          40,
          40,
          10
         ],
         "y": [
          100,
          200,
          200,
          100,
          100
         ]
        },
        {
         "name": "p2",
         "type": "scatter",
         "x": [
          50,
          50,
          70,
          70,
          50
         ],
         "y": [
          100,
          200,
          200,
          100,
          100
         ]
        },
        {
         "name": "p3",
         "type": "scatter",
         "x": [
          10,
          10,
          40,
          40,
          10
         ],
         "y": [
          200,
          300,
          300,
          200,
          200
         ]
        },
        {
         "name": "p4",
         "type": "scatter",
         "x": [
          50,
          50,
          100,
          100,
          50
         ],
         "y": [
          50,
          250,
          250,
          50,
          50
         ]
        },
        {
         "name": "p5",
         "type": "scatter",
         "x": [
          80,
          80,
          110,
          110,
          80
         ],
         "y": [
          100,
          200,
          200,
          100,
          100
         ]
        },
        {
         "name": "p6",
         "type": "scatter",
         "x": [
          160,
          160,
          170,
          170,
          160
         ],
         "y": [
          350,
          400,
          400,
          350,
          350
         ]
        },
        {
         "name": "p7",
         "type": "scatter",
         "x": [
          150,
          150,
          180,
          180,
          150
         ],
         "y": [
          300,
          500,
          500,
          300,
          300
         ]
        },
        {
         "name": "p8",
         "type": "scatter",
         "x": [
          160,
          160,
          170,
          170,
          160
         ],
         "y": [
          350,
          400,
          400,
          350,
          350
         ]
        },
        {
         "name": "c3",
         "type": "scatter",
         "x": [
          25
         ],
         "y": [
          250
         ]
        },
        {
         "name": "c2",
         "type": "scatter",
         "x": [
          60
         ],
         "y": [
          150
         ]
        },
        {
         "name": "tp",
         "type": "scatter",
         "x": [
          60,
          251.34171618254493,
          -131.34171618254493,
          60
         ],
         "y": [
          150,
          611.9397662556433,
          611.9397662556433,
          150
         ]
        },
        {
         "name": "tr",
         "type": "scatter",
         "x": [
          60,
          251.34171618254493,
          521.9397662556433,
          60
         ],
         "y": [
          150,
          611.9397662556433,
          341.3417161825449,
          150
         ]
        },
        {
         "name": "rt",
         "type": "scatter",
         "x": [
          60,
          521.9397662556433,
          521.9397662556433,
          60
         ],
         "y": [
          150,
          341.3417161825449,
          -41.34171618254493,
          150
         ]
        },
        {
         "name": "br",
         "type": "scatter",
         "x": [
          60,
          521.9397662556433,
          251.34171618254493,
          60
         ],
         "y": [
          150,
          -41.34171618254493,
          -311.93976625564335,
          150
         ]
        },
        {
         "name": "bt",
         "type": "scatter",
         "x": [
          60,
          251.34171618254493,
          -131.34171618254493,
          60
         ],
         "y": [
          150,
          -311.93976625564335,
          -311.93976625564335,
          150
         ]
        },
        {
         "name": "bl",
         "type": "scatter",
         "x": [
          60,
          -131.34171618254493,
          -401.93976625564335,
          60
         ],
         "y": [
          150,
          -311.93976625564335,
          -41.34171618254493,
          150
         ]
        },
        {
         "name": "lt",
         "type": "scatter",
         "x": [
          60,
          -401.93976625564335,
          -401.93976625564335,
          60
         ],
         "y": [
          150,
          -41.34171618254493,
          341.3417161825449,
          150
         ]
        },
        {
         "name": "tl",
         "type": "scatter",
         "x": [
          60,
          -401.93976625564335,
          -131.34171618254493,
          60
         ],
         "y": [
          150,
          341.3417161825449,
          611.9397662556433,
          150
         ]
        }
       ],
       "layout": {
        "template": {
         "data": {
          "bar": [
           {
            "error_x": {
             "color": "#2a3f5f"
            },
            "error_y": {
             "color": "#2a3f5f"
            },
            "marker": {
             "line": {
              "color": "#E5ECF6",
              "width": 0.5
             }
            },
            "type": "bar"
           }
          ],
          "barpolar": [
           {
            "marker": {
             "line": {
              "color": "#E5ECF6",
              "width": 0.5
             }
            },
            "type": "barpolar"
           }
          ],
          "carpet": [
           {
            "aaxis": {
             "endlinecolor": "#2a3f5f",
             "gridcolor": "white",
             "linecolor": "white",
             "minorgridcolor": "white",
             "startlinecolor": "#2a3f5f"
            },
            "baxis": {
             "endlinecolor": "#2a3f5f",
             "gridcolor": "white",
             "linecolor": "white",
             "minorgridcolor": "white",
             "startlinecolor": "#2a3f5f"
            },
            "type": "carpet"
           }
          ],
          "choropleth": [
           {
            "colorbar": {
             "outlinewidth": 0,
             "ticks": ""
            },
            "type": "choropleth"
           }
          ],
          "contour": [
           {
            "colorbar": {
             "outlinewidth": 0,
             "ticks": ""
            },
            "colorscale": [
             [
              0,
              "#0d0887"
             ],
             [
              0.1111111111111111,
              "#46039f"
             ],
             [
              0.2222222222222222,
              "#7201a8"
             ],
             [
              0.3333333333333333,
              "#9c179e"
             ],
             [
              0.4444444444444444,
              "#bd3786"
             ],
             [
              0.5555555555555556,
              "#d8576b"
             ],
             [
              0.6666666666666666,
              "#ed7953"
             ],
             [
              0.7777777777777778,
              "#fb9f3a"
             ],
             [
              0.8888888888888888,
              "#fdca26"
             ],
             [
              1,
              "#f0f921"
             ]
            ],
            "type": "contour"
           }
          ],
          "contourcarpet": [
           {
            "colorbar": {
             "outlinewidth": 0,
             "ticks": ""
            },
            "type": "contourcarpet"
           }
          ],
          "heatmap": [
           {
            "colorbar": {
             "outlinewidth": 0,
             "ticks": ""
            },
            "colorscale": [
             [
              0,
              "#0d0887"
             ],
             [
              0.1111111111111111,
              "#46039f"
             ],
             [
              0.2222222222222222,
              "#7201a8"
             ],
             [
              0.3333333333333333,
              "#9c179e"
             ],
             [
              0.4444444444444444,
              "#bd3786"
             ],
             [
              0.5555555555555556,
              "#d8576b"
             ],
             [
              0.6666666666666666,
              "#ed7953"
             ],
             [
              0.7777777777777778,
              "#fb9f3a"
             ],
             [
              0.8888888888888888,
              "#fdca26"
             ],
             [
              1,
              "#f0f921"
             ]
            ],
            "type": "heatmap"
           }
          ],
          "heatmapgl": [
           {
            "colorbar": {
             "outlinewidth": 0,
             "ticks": ""
            },
            "colorscale": [
             [
              0,
              "#0d0887"
             ],
             [
              0.1111111111111111,
              "#46039f"
             ],
             [
              0.2222222222222222,
              "#7201a8"
             ],
             [
              0.3333333333333333,
              "#9c179e"
             ],
             [
              0.4444444444444444,
              "#bd3786"
             ],
             [
              0.5555555555555556,
              "#d8576b"
             ],
             [
              0.6666666666666666,
              "#ed7953"
             ],
             [
              0.7777777777777778,
              "#fb9f3a"
             ],
             [
              0.8888888888888888,
              "#fdca26"
             ],
             [
              1,
              "#f0f921"
             ]
            ],
            "type": "heatmapgl"
           }
          ],
          "histogram": [
           {
            "marker": {
             "colorbar": {
              "outlinewidth": 0,
              "ticks": ""
             }
            },
            "type": "histogram"
           }
          ],
          "histogram2d": [
           {
            "colorbar": {
             "outlinewidth": 0,
             "ticks": ""
            },
            "colorscale": [
             [
              0,
              "#0d0887"
             ],
             [
              0.1111111111111111,
              "#46039f"
             ],
             [
              0.2222222222222222,
              "#7201a8"
             ],
             [
              0.3333333333333333,
              "#9c179e"
             ],
             [
              0.4444444444444444,
              "#bd3786"
             ],
             [
              0.5555555555555556,
              "#d8576b"
             ],
             [
              0.6666666666666666,
              "#ed7953"
             ],
             [
              0.7777777777777778,
              "#fb9f3a"
             ],
             [
              0.8888888888888888,
              "#fdca26"
             ],
             [
              1,
              "#f0f921"
             ]
            ],
            "type": "histogram2d"
           }
          ],
          "histogram2dcontour": [
           {
            "colorbar": {
             "outlinewidth": 0,
             "ticks": ""
            },
            "colorscale": [
             [
              0,
              "#0d0887"
             ],
             [
              0.1111111111111111,
              "#46039f"
             ],
             [
              0.2222222222222222,
              "#7201a8"
             ],
             [
              0.3333333333333333,
              "#9c179e"
             ],
             [
              0.4444444444444444,
              "#bd3786"
             ],
             [
              0.5555555555555556,
              "#d8576b"
             ],
             [
              0.6666666666666666,
              "#ed7953"
             ],
             [
              0.7777777777777778,
              "#fb9f3a"
             ],
             [
              0.8888888888888888,
              "#fdca26"
             ],
             [
              1,
              "#f0f921"
             ]
            ],
            "type": "histogram2dcontour"
           }
          ],
          "mesh3d": [
           {
            "colorbar": {
             "outlinewidth": 0,
             "ticks": ""
            },
            "type": "mesh3d"
           }
          ],
          "parcoords": [
           {
            "line": {
             "colorbar": {
              "outlinewidth": 0,
              "ticks": ""
             }
            },
            "type": "parcoords"
           }
          ],
          "pie": [
           {
            "automargin": true,
            "type": "pie"
           }
          ],
          "scatter": [
           {
            "marker": {
             "colorbar": {
              "outlinewidth": 0,
              "ticks": ""
             }
            },
            "type": "scatter"
           }
          ],
          "scatter3d": [
           {
            "line": {
             "colorbar": {
              "outlinewidth": 0,
              "ticks": ""
             }
            },
            "marker": {
             "colorbar": {
              "outlinewidth": 0,
              "ticks": ""
             }
            },
            "type": "scatter3d"
           }
          ],
          "scattercarpet": [
           {
            "marker": {
             "colorbar": {
              "outlinewidth": 0,
              "ticks": ""
             }
            },
            "type": "scattercarpet"
           }
          ],
          "scattergeo": [
           {
            "marker": {
             "colorbar": {
              "outlinewidth": 0,
              "ticks": ""
             }
            },
            "type": "scattergeo"
           }
          ],
          "scattergl": [
           {
            "marker": {
             "colorbar": {
              "outlinewidth": 0,
              "ticks": ""
             }
            },
            "type": "scattergl"
           }
          ],
          "scattermapbox": [
           {
            "marker": {
             "colorbar": {
              "outlinewidth": 0,
              "ticks": ""
             }
            },
            "type": "scattermapbox"
           }
          ],
          "scatterpolar": [
           {
            "marker": {
             "colorbar": {
              "outlinewidth": 0,
              "ticks": ""
             }
            },
            "type": "scatterpolar"
           }
          ],
          "scatterpolargl": [
           {
            "marker": {
             "colorbar": {
              "outlinewidth": 0,
              "ticks": ""
             }
            },
            "type": "scatterpolargl"
           }
          ],
          "scatterternary": [
           {
            "marker": {
             "colorbar": {
              "outlinewidth": 0,
              "ticks": ""
             }
            },
            "type": "scatterternary"
           }
          ],
          "surface": [
           {
            "colorbar": {
             "outlinewidth": 0,
             "ticks": ""
            },
            "colorscale": [
             [
              0,
              "#0d0887"
             ],
             [
              0.1111111111111111,
              "#46039f"
             ],
             [
              0.2222222222222222,
              "#7201a8"
             ],
             [
              0.3333333333333333,
              "#9c179e"
             ],
             [
              0.4444444444444444,
              "#bd3786"
             ],
             [
              0.5555555555555556,
              "#d8576b"
             ],
             [
              0.6666666666666666,
              "#ed7953"
             ],
             [
              0.7777777777777778,
              "#fb9f3a"
             ],
             [
              0.8888888888888888,
              "#fdca26"
             ],
             [
              1,
              "#f0f921"
             ]
            ],
            "type": "surface"
           }
          ],
          "table": [
           {
            "cells": {
             "fill": {
              "color": "#EBF0F8"
             },
             "line": {
              "color": "white"
             }
            },
            "header": {
             "fill": {
              "color": "#C8D4E3"
             },
             "line": {
              "color": "white"
             }
            },
            "type": "table"
           }
          ]
         },
         "layout": {
          "annotationdefaults": {
           "arrowcolor": "#2a3f5f",
           "arrowhead": 0,
           "arrowwidth": 1
          },
          "coloraxis": {
           "colorbar": {
            "outlinewidth": 0,
            "ticks": ""
           }
          },
          "colorscale": {
           "diverging": [
            [
             0,
             "#8e0152"
            ],
            [
             0.1,
             "#c51b7d"
            ],
            [
             0.2,
             "#de77ae"
            ],
            [
             0.3,
             "#f1b6da"
            ],
            [
             0.4,
             "#fde0ef"
            ],
            [
             0.5,
             "#f7f7f7"
            ],
            [
             0.6,
             "#e6f5d0"
            ],
            [
             0.7,
             "#b8e186"
            ],
            [
             0.8,
             "#7fbc41"
            ],
            [
             0.9,
             "#4d9221"
            ],
            [
             1,
             "#276419"
            ]
           ],
           "sequential": [
            [
             0,
             "#0d0887"
            ],
            [
             0.1111111111111111,
             "#46039f"
            ],
            [
             0.2222222222222222,
             "#7201a8"
            ],
            [
             0.3333333333333333,
             "#9c179e"
            ],
            [
             0.4444444444444444,
             "#bd3786"
            ],
            [
             0.5555555555555556,
             "#d8576b"
            ],
            [
             0.6666666666666666,
             "#ed7953"
            ],
            [
             0.7777777777777778,
             "#fb9f3a"
            ],
            [
             0.8888888888888888,
             "#fdca26"
            ],
            [
             1,
             "#f0f921"
            ]
           ],
           "sequentialminus": [
            [
             0,
             "#0d0887"
            ],
            [
             0.1111111111111111,
             "#46039f"
            ],
            [
             0.2222222222222222,
             "#7201a8"
            ],
            [
             0.3333333333333333,
             "#9c179e"
            ],
            [
             0.4444444444444444,
             "#bd3786"
            ],
            [
             0.5555555555555556,
             "#d8576b"
            ],
            [
             0.6666666666666666,
             "#ed7953"
            ],
            [
             0.7777777777777778,
             "#fb9f3a"
            ],
            [
             0.8888888888888888,
             "#fdca26"
            ],
            [
             1,
             "#f0f921"
            ]
           ]
          },
          "colorway": [
           "#636efa",
           "#EF553B",
           "#00cc96",
           "#ab63fa",
           "#FFA15A",
           "#19d3f3",
           "#FF6692",
           "#B6E880",
           "#FF97FF",
           "#FECB52"
          ],
          "font": {
           "color": "#2a3f5f"
          },
          "geo": {
           "bgcolor": "white",
           "lakecolor": "white",
           "landcolor": "#E5ECF6",
           "showlakes": true,
           "showland": true,
           "subunitcolor": "white"
          },
          "hoverlabel": {
           "align": "left"
          },
          "hovermode": "closest",
          "mapbox": {
           "style": "light"
          },
          "paper_bgcolor": "white",
          "plot_bgcolor": "#E5ECF6",
          "polar": {
           "angularaxis": {
            "gridcolor": "white",
            "linecolor": "white",
            "ticks": ""
           },
           "bgcolor": "#E5ECF6",
           "radialaxis": {
            "gridcolor": "white",
            "linecolor": "white",
            "ticks": ""
           }
          },
          "scene": {
           "xaxis": {
            "backgroundcolor": "#E5ECF6",
            "gridcolor": "white",
            "gridwidth": 2,
            "linecolor": "white",
            "showbackground": true,
            "ticks": "",
            "zerolinecolor": "white"
           },
           "yaxis": {
            "backgroundcolor": "#E5ECF6",
            "gridcolor": "white",
            "gridwidth": 2,
            "linecolor": "white",
            "showbackground": true,
            "ticks": "",
            "zerolinecolor": "white"
           },
           "zaxis": {
            "backgroundcolor": "#E5ECF6",
            "gridcolor": "white",
            "gridwidth": 2,
            "linecolor": "white",
            "showbackground": true,
            "ticks": "",
            "zerolinecolor": "white"
           }
          },
          "shapedefaults": {
           "line": {
            "color": "#2a3f5f"
           }
          },
          "ternary": {
           "aaxis": {
            "gridcolor": "white",
            "linecolor": "white",
            "ticks": ""
           },
           "baxis": {
            "gridcolor": "white",
            "linecolor": "white",
            "ticks": ""
           },
           "bgcolor": "#E5ECF6",
           "caxis": {
            "gridcolor": "white",
            "linecolor": "white",
            "ticks": ""
           }
          },
          "title": {
           "x": 0.05
          },
          "xaxis": {
           "automargin": true,
           "gridcolor": "white",
           "linecolor": "white",
           "ticks": "",
           "title": {
            "standoff": 15
           },
           "zerolinecolor": "white",
           "zerolinewidth": 2
          },
          "yaxis": {
           "automargin": true,
           "gridcolor": "white",
           "linecolor": "white",
           "ticks": "",
           "title": {
            "standoff": 15
           },
           "zerolinecolor": "white",
           "zerolinewidth": 2
          }
         }
        }
       }
      },
      "text/html": [
       "<div>\n",
       "        \n",
       "        \n",
       "            <div id=\"70eaa5fd-31ff-45b2-91ef-285c0979d483\" class=\"plotly-graph-div\" style=\"height:525px; width:100%;\"></div>\n",
       "            <script type=\"text/javascript\">\n",
       "                require([\"plotly\"], function(Plotly) {\n",
       "                    window.PLOTLYENV=window.PLOTLYENV || {};\n",
       "                    \n",
       "                if (document.getElementById(\"70eaa5fd-31ff-45b2-91ef-285c0979d483\")) {\n",
       "                    Plotly.newPlot(\n",
       "                        '70eaa5fd-31ff-45b2-91ef-285c0979d483',\n",
       "                        [{\"name\": \"p1\", \"type\": \"scatter\", \"x\": [10, 10, 40, 40, 10], \"y\": [100, 200, 200, 100, 100]}, {\"name\": \"p2\", \"type\": \"scatter\", \"x\": [50, 50, 70, 70, 50], \"y\": [100, 200, 200, 100, 100]}, {\"name\": \"p3\", \"type\": \"scatter\", \"x\": [10, 10, 40, 40, 10], \"y\": [200, 300, 300, 200, 200]}, {\"name\": \"p4\", \"type\": \"scatter\", \"x\": [50, 50, 100, 100, 50], \"y\": [50, 250, 250, 50, 50]}, {\"name\": \"p5\", \"type\": \"scatter\", \"x\": [80, 80, 110, 110, 80], \"y\": [100, 200, 200, 100, 100]}, {\"name\": \"p6\", \"type\": \"scatter\", \"x\": [160, 160, 170, 170, 160], \"y\": [350, 400, 400, 350, 350]}, {\"name\": \"p7\", \"type\": \"scatter\", \"x\": [150, 150, 180, 180, 150], \"y\": [300, 500, 500, 300, 300]}, {\"name\": \"p8\", \"type\": \"scatter\", \"x\": [160, 160, 170, 170, 160], \"y\": [350, 400, 400, 350, 350]}, {\"name\": \"c3\", \"type\": \"scatter\", \"x\": [25], \"y\": [250]}, {\"name\": \"c2\", \"type\": \"scatter\", \"x\": [60], \"y\": [150]}, {\"name\": \"tp\", \"type\": \"scatter\", \"x\": [60.0, 251.34171618254493, -131.34171618254493, 60.0], \"y\": [150.0, 611.9397662556433, 611.9397662556433, 150.0]}, {\"name\": \"tr\", \"type\": \"scatter\", \"x\": [60.0, 251.34171618254493, 521.9397662556433, 60.0], \"y\": [150.0, 611.9397662556433, 341.3417161825449, 150.0]}, {\"name\": \"rt\", \"type\": \"scatter\", \"x\": [60.0, 521.9397662556433, 521.9397662556433, 60.0], \"y\": [150.0, 341.3417161825449, -41.34171618254493, 150.0]}, {\"name\": \"br\", \"type\": \"scatter\", \"x\": [60.0, 521.9397662556433, 251.34171618254493, 60.0], \"y\": [150.0, -41.34171618254493, -311.93976625564335, 150.0]}, {\"name\": \"bt\", \"type\": \"scatter\", \"x\": [60.0, 251.34171618254493, -131.34171618254493, 60.0], \"y\": [150.0, -311.93976625564335, -311.93976625564335, 150.0]}, {\"name\": \"bl\", \"type\": \"scatter\", \"x\": [60.0, -131.34171618254493, -401.93976625564335, 60.0], \"y\": [150.0, -311.93976625564335, -41.34171618254493, 150.0]}, {\"name\": \"lt\", \"type\": \"scatter\", \"x\": [60.0, -401.93976625564335, -401.93976625564335, 60.0], \"y\": [150.0, -41.34171618254493, 341.3417161825449, 150.0]}, {\"name\": \"tl\", \"type\": \"scatter\", \"x\": [60.0, -401.93976625564335, -131.34171618254493, 60.0], \"y\": [150.0, 341.3417161825449, 611.9397662556433, 150.0]}],\n",
       "                        {\"template\": {\"data\": {\"bar\": [{\"error_x\": {\"color\": \"#2a3f5f\"}, \"error_y\": {\"color\": \"#2a3f5f\"}, \"marker\": {\"line\": {\"color\": \"#E5ECF6\", \"width\": 0.5}}, \"type\": \"bar\"}], \"barpolar\": [{\"marker\": {\"line\": {\"color\": \"#E5ECF6\", \"width\": 0.5}}, \"type\": \"barpolar\"}], \"carpet\": [{\"aaxis\": {\"endlinecolor\": \"#2a3f5f\", \"gridcolor\": \"white\", \"linecolor\": \"white\", \"minorgridcolor\": \"white\", \"startlinecolor\": \"#2a3f5f\"}, \"baxis\": {\"endlinecolor\": \"#2a3f5f\", \"gridcolor\": \"white\", \"linecolor\": \"white\", \"minorgridcolor\": \"white\", \"startlinecolor\": \"#2a3f5f\"}, \"type\": \"carpet\"}], \"choropleth\": [{\"colorbar\": {\"outlinewidth\": 0, \"ticks\": \"\"}, \"type\": \"choropleth\"}], \"contour\": [{\"colorbar\": {\"outlinewidth\": 0, \"ticks\": \"\"}, \"colorscale\": [[0.0, \"#0d0887\"], [0.1111111111111111, \"#46039f\"], [0.2222222222222222, \"#7201a8\"], [0.3333333333333333, \"#9c179e\"], [0.4444444444444444, \"#bd3786\"], [0.5555555555555556, \"#d8576b\"], [0.6666666666666666, \"#ed7953\"], [0.7777777777777778, \"#fb9f3a\"], [0.8888888888888888, \"#fdca26\"], [1.0, \"#f0f921\"]], \"type\": \"contour\"}], \"contourcarpet\": [{\"colorbar\": {\"outlinewidth\": 0, \"ticks\": \"\"}, \"type\": \"contourcarpet\"}], \"heatmap\": [{\"colorbar\": {\"outlinewidth\": 0, \"ticks\": \"\"}, \"colorscale\": [[0.0, \"#0d0887\"], [0.1111111111111111, \"#46039f\"], [0.2222222222222222, \"#7201a8\"], [0.3333333333333333, \"#9c179e\"], [0.4444444444444444, \"#bd3786\"], [0.5555555555555556, \"#d8576b\"], [0.6666666666666666, \"#ed7953\"], [0.7777777777777778, \"#fb9f3a\"], [0.8888888888888888, \"#fdca26\"], [1.0, \"#f0f921\"]], \"type\": \"heatmap\"}], \"heatmapgl\": [{\"colorbar\": {\"outlinewidth\": 0, \"ticks\": \"\"}, \"colorscale\": [[0.0, \"#0d0887\"], [0.1111111111111111, \"#46039f\"], [0.2222222222222222, \"#7201a8\"], [0.3333333333333333, \"#9c179e\"], [0.4444444444444444, \"#bd3786\"], [0.5555555555555556, \"#d8576b\"], [0.6666666666666666, \"#ed7953\"], [0.7777777777777778, \"#fb9f3a\"], [0.8888888888888888, \"#fdca26\"], [1.0, \"#f0f921\"]], \"type\": \"heatmapgl\"}], \"histogram\": [{\"marker\": {\"colorbar\": {\"outlinewidth\": 0, \"ticks\": \"\"}}, \"type\": \"histogram\"}], \"histogram2d\": [{\"colorbar\": {\"outlinewidth\": 0, \"ticks\": \"\"}, \"colorscale\": [[0.0, \"#0d0887\"], [0.1111111111111111, \"#46039f\"], [0.2222222222222222, \"#7201a8\"], [0.3333333333333333, \"#9c179e\"], [0.4444444444444444, \"#bd3786\"], [0.5555555555555556, \"#d8576b\"], [0.6666666666666666, \"#ed7953\"], [0.7777777777777778, \"#fb9f3a\"], [0.8888888888888888, \"#fdca26\"], [1.0, \"#f0f921\"]], \"type\": \"histogram2d\"}], \"histogram2dcontour\": [{\"colorbar\": {\"outlinewidth\": 0, \"ticks\": \"\"}, \"colorscale\": [[0.0, \"#0d0887\"], [0.1111111111111111, \"#46039f\"], [0.2222222222222222, \"#7201a8\"], [0.3333333333333333, \"#9c179e\"], [0.4444444444444444, \"#bd3786\"], [0.5555555555555556, \"#d8576b\"], [0.6666666666666666, \"#ed7953\"], [0.7777777777777778, \"#fb9f3a\"], [0.8888888888888888, \"#fdca26\"], [1.0, \"#f0f921\"]], \"type\": \"histogram2dcontour\"}], \"mesh3d\": [{\"colorbar\": {\"outlinewidth\": 0, \"ticks\": \"\"}, \"type\": \"mesh3d\"}], \"parcoords\": [{\"line\": {\"colorbar\": {\"outlinewidth\": 0, \"ticks\": \"\"}}, \"type\": \"parcoords\"}], \"pie\": [{\"automargin\": true, \"type\": \"pie\"}], \"scatter\": [{\"marker\": {\"colorbar\": {\"outlinewidth\": 0, \"ticks\": \"\"}}, \"type\": \"scatter\"}], \"scatter3d\": [{\"line\": {\"colorbar\": {\"outlinewidth\": 0, \"ticks\": \"\"}}, \"marker\": {\"colorbar\": {\"outlinewidth\": 0, \"ticks\": \"\"}}, \"type\": \"scatter3d\"}], \"scattercarpet\": [{\"marker\": {\"colorbar\": {\"outlinewidth\": 0, \"ticks\": \"\"}}, \"type\": \"scattercarpet\"}], \"scattergeo\": [{\"marker\": {\"colorbar\": {\"outlinewidth\": 0, \"ticks\": \"\"}}, \"type\": \"scattergeo\"}], \"scattergl\": [{\"marker\": {\"colorbar\": {\"outlinewidth\": 0, \"ticks\": \"\"}}, \"type\": \"scattergl\"}], \"scattermapbox\": [{\"marker\": {\"colorbar\": {\"outlinewidth\": 0, \"ticks\": \"\"}}, \"type\": \"scattermapbox\"}], \"scatterpolar\": [{\"marker\": {\"colorbar\": {\"outlinewidth\": 0, \"ticks\": \"\"}}, \"type\": \"scatterpolar\"}], \"scatterpolargl\": [{\"marker\": {\"colorbar\": {\"outlinewidth\": 0, \"ticks\": \"\"}}, \"type\": \"scatterpolargl\"}], \"scatterternary\": [{\"marker\": {\"colorbar\": {\"outlinewidth\": 0, \"ticks\": \"\"}}, \"type\": \"scatterternary\"}], \"surface\": [{\"colorbar\": {\"outlinewidth\": 0, \"ticks\": \"\"}, \"colorscale\": [[0.0, \"#0d0887\"], [0.1111111111111111, \"#46039f\"], [0.2222222222222222, \"#7201a8\"], [0.3333333333333333, \"#9c179e\"], [0.4444444444444444, \"#bd3786\"], [0.5555555555555556, \"#d8576b\"], [0.6666666666666666, \"#ed7953\"], [0.7777777777777778, \"#fb9f3a\"], [0.8888888888888888, \"#fdca26\"], [1.0, \"#f0f921\"]], \"type\": \"surface\"}], \"table\": [{\"cells\": {\"fill\": {\"color\": \"#EBF0F8\"}, \"line\": {\"color\": \"white\"}}, \"header\": {\"fill\": {\"color\": \"#C8D4E3\"}, \"line\": {\"color\": \"white\"}}, \"type\": \"table\"}]}, \"layout\": {\"annotationdefaults\": {\"arrowcolor\": \"#2a3f5f\", \"arrowhead\": 0, \"arrowwidth\": 1}, \"coloraxis\": {\"colorbar\": {\"outlinewidth\": 0, \"ticks\": \"\"}}, \"colorscale\": {\"diverging\": [[0, \"#8e0152\"], [0.1, \"#c51b7d\"], [0.2, \"#de77ae\"], [0.3, \"#f1b6da\"], [0.4, \"#fde0ef\"], [0.5, \"#f7f7f7\"], [0.6, \"#e6f5d0\"], [0.7, \"#b8e186\"], [0.8, \"#7fbc41\"], [0.9, \"#4d9221\"], [1, \"#276419\"]], \"sequential\": [[0.0, \"#0d0887\"], [0.1111111111111111, \"#46039f\"], [0.2222222222222222, \"#7201a8\"], [0.3333333333333333, \"#9c179e\"], [0.4444444444444444, \"#bd3786\"], [0.5555555555555556, \"#d8576b\"], [0.6666666666666666, \"#ed7953\"], [0.7777777777777778, \"#fb9f3a\"], [0.8888888888888888, \"#fdca26\"], [1.0, \"#f0f921\"]], \"sequentialminus\": [[0.0, \"#0d0887\"], [0.1111111111111111, \"#46039f\"], [0.2222222222222222, \"#7201a8\"], [0.3333333333333333, \"#9c179e\"], [0.4444444444444444, \"#bd3786\"], [0.5555555555555556, \"#d8576b\"], [0.6666666666666666, \"#ed7953\"], [0.7777777777777778, \"#fb9f3a\"], [0.8888888888888888, \"#fdca26\"], [1.0, \"#f0f921\"]]}, \"colorway\": [\"#636efa\", \"#EF553B\", \"#00cc96\", \"#ab63fa\", \"#FFA15A\", \"#19d3f3\", \"#FF6692\", \"#B6E880\", \"#FF97FF\", \"#FECB52\"], \"font\": {\"color\": \"#2a3f5f\"}, \"geo\": {\"bgcolor\": \"white\", \"lakecolor\": \"white\", \"landcolor\": \"#E5ECF6\", \"showlakes\": true, \"showland\": true, \"subunitcolor\": \"white\"}, \"hoverlabel\": {\"align\": \"left\"}, \"hovermode\": \"closest\", \"mapbox\": {\"style\": \"light\"}, \"paper_bgcolor\": \"white\", \"plot_bgcolor\": \"#E5ECF6\", \"polar\": {\"angularaxis\": {\"gridcolor\": \"white\", \"linecolor\": \"white\", \"ticks\": \"\"}, \"bgcolor\": \"#E5ECF6\", \"radialaxis\": {\"gridcolor\": \"white\", \"linecolor\": \"white\", \"ticks\": \"\"}}, \"scene\": {\"xaxis\": {\"backgroundcolor\": \"#E5ECF6\", \"gridcolor\": \"white\", \"gridwidth\": 2, \"linecolor\": \"white\", \"showbackground\": true, \"ticks\": \"\", \"zerolinecolor\": \"white\"}, \"yaxis\": {\"backgroundcolor\": \"#E5ECF6\", \"gridcolor\": \"white\", \"gridwidth\": 2, \"linecolor\": \"white\", \"showbackground\": true, \"ticks\": \"\", \"zerolinecolor\": \"white\"}, \"zaxis\": {\"backgroundcolor\": \"#E5ECF6\", \"gridcolor\": \"white\", \"gridwidth\": 2, \"linecolor\": \"white\", \"showbackground\": true, \"ticks\": \"\", \"zerolinecolor\": \"white\"}}, \"shapedefaults\": {\"line\": {\"color\": \"#2a3f5f\"}}, \"ternary\": {\"aaxis\": {\"gridcolor\": \"white\", \"linecolor\": \"white\", \"ticks\": \"\"}, \"baxis\": {\"gridcolor\": \"white\", \"linecolor\": \"white\", \"ticks\": \"\"}, \"bgcolor\": \"#E5ECF6\", \"caxis\": {\"gridcolor\": \"white\", \"linecolor\": \"white\", \"ticks\": \"\"}}, \"title\": {\"x\": 0.05}, \"xaxis\": {\"automargin\": true, \"gridcolor\": \"white\", \"linecolor\": \"white\", \"ticks\": \"\", \"title\": {\"standoff\": 15}, \"zerolinecolor\": \"white\", \"zerolinewidth\": 2}, \"yaxis\": {\"automargin\": true, \"gridcolor\": \"white\", \"linecolor\": \"white\", \"ticks\": \"\", \"title\": {\"standoff\": 15}, \"zerolinecolor\": \"white\", \"zerolinewidth\": 2}}}},\n",
       "                        {\"responsive\": true}\n",
       "                    ).then(function(){\n",
       "                            \n",
       "var gd = document.getElementById('70eaa5fd-31ff-45b2-91ef-285c0979d483');\n",
       "var x = new MutationObserver(function (mutations, observer) {{\n",
       "        var display = window.getComputedStyle(gd).display;\n",
       "        if (!display || display === 'none') {{\n",
       "            console.log([gd, 'removed!']);\n",
       "            Plotly.purge(gd);\n",
       "            observer.disconnect();\n",
       "        }}\n",
       "}});\n",
       "\n",
       "// Listen for the removal of the full notebook cells\n",
       "var notebookContainer = gd.closest('#notebook-container');\n",
       "if (notebookContainer) {{\n",
       "    x.observe(notebookContainer, {childList: true});\n",
       "}}\n",
       "\n",
       "// Listen for the clearing of the current output cell\n",
       "var outputEl = gd.closest('.output');\n",
       "if (outputEl) {{\n",
       "    x.observe(outputEl, {childList: true});\n",
       "}}\n",
       "\n",
       "                        })\n",
       "                };\n",
       "                });\n",
       "            </script>\n",
       "        </div>"
      ]
     },
     "metadata": {},
     "output_type": "display_data"
    }
   ],
   "source": [
    "fig = go.Figure()\n",
    "\n",
    "for i in range(len(polygon_set)):\n",
    "    fig.add_trace(go.Scatter(\n",
    "        x=polygon_set[i][1],\n",
    "        y=polygon_set[i][2],\n",
    "        name = \"p\"+str(i+1) # legend entry \n",
    "    ))\n",
    "    \n",
    "fig.add_trace(go.Scatter(\n",
    "    x = [25],\n",
    "    y = [250],\n",
    "    name = \"c3\"\n",
    "    ))\n",
    "    \n",
    "fig.add_trace(go.Scatter(\n",
    "    x = [60],\n",
    "    y = [150],\n",
    "    name = \"c2\"\n",
    "    ))\n",
    "\n",
    "for i in range(len(p2_triangle)):\n",
    "    x_triangle = []\n",
    "    y_triangle = []\n",
    "    for j in range(4):\n",
    "        x_triangle.append(p2_triangle[i][1].exterior.coords.xy[0][j])\n",
    "        y_triangle.append(p2_triangle[i][1].exterior.coords.xy[1][j])\n",
    "        \n",
    "    fig.add_trace(go.Scatter(\n",
    "        x = x_triangle,\n",
    "        y = y_triangle,\n",
    "        name = str(p2_triangle[i][0])\n",
    "        ))\n",
    "    \n",
    "    \n",
    "    \n",
    "fig.show()"
   ]
  },
  {
   "cell_type": "code",
   "execution_count": 52,
   "metadata": {},
   "outputs": [
    {
     "data": {
      "text/plain": [
       "(-131.34171618254493, 150.0, 251.34171618254493, 611.9397662556433)"
      ]
     },
     "execution_count": 52,
     "metadata": {},
     "output_type": "execute_result"
    }
   ],
   "source": [
    "triangles_for_STAR(p=(60,150),hypotenuse_len=500)[0][1].bounds"
   ]
  },
  {
   "cell_type": "code",
   "execution_count": 76,
   "metadata": {},
   "outputs": [
    {
     "data": {
      "text/plain": [
       "array('d', [60.0, 251.34171618254493, -131.34171618254493, 60.0])"
      ]
     },
     "execution_count": 76,
     "metadata": {},
     "output_type": "execute_result"
    }
   ],
   "source": [
    "triangles_for_STAR(p=(60,150),hypotenuse_len=500)[0][1].exterior.coords.xy[0]"
   ]
  },
  {
   "cell_type": "code",
   "execution_count": 57,
   "metadata": {},
   "outputs": [
    {
     "data": {
      "text/plain": [
       "[['tp', <shapely.geometry.polygon.Polygon at 0x1d269f41348>],\n",
       " ['tr', <shapely.geometry.polygon.Polygon at 0x1d269f41448>],\n",
       " ['rt', <shapely.geometry.polygon.Polygon at 0x1d269f41688>],\n",
       " ['br', <shapely.geometry.polygon.Polygon at 0x1d269f41608>],\n",
       " ['bt', <shapely.geometry.polygon.Polygon at 0x1d269f41648>],\n",
       " ['bl', <shapely.geometry.polygon.Polygon at 0x1d269f414c8>],\n",
       " ['lt', <shapely.geometry.polygon.Polygon at 0x1d269f41208>],\n",
       " ['tl', <shapely.geometry.polygon.Polygon at 0x1d269f41288>]]"
      ]
     },
     "execution_count": 57,
     "metadata": {},
     "output_type": "execute_result"
    }
   ],
   "source": [
    "p2_triangle = triangles_for_STAR(p=(60,150),hypotenuse_len=500)"
   ]
  },
  {
   "cell_type": "code",
   "execution_count": null,
   "metadata": {},
   "outputs": [],
   "source": []
  }
 ],
 "metadata": {
  "kernelspec": {
   "display_name": "Python 3",
   "language": "python",
   "name": "python3"
  },
  "language_info": {
   "codemirror_mode": {
    "name": "ipython",
    "version": 3
   },
   "file_extension": ".py",
   "mimetype": "text/x-python",
   "name": "python",
   "nbconvert_exporter": "python",
   "pygments_lexer": "ipython3",
   "version": "3.7.6"
  }
 },
 "nbformat": 4,
 "nbformat_minor": 4
}
